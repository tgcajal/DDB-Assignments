{
 "cells": [
  {
   "cell_type": "markdown",
   "metadata": {},
   "source": [
    "### **Customer lifetime value**\n",
    "**MBDS DDB Tania Cajal Assignment 4**\n",
    "\n",
    "CLTV = (Customer_Value * Profit_margin) /  Churn_Rate\n",
    "\n",
    "Customer_Value = Average_Order_Value * Purchase_Frequency\n",
    "\n",
    "Average_Order_Value = Total_Revenue / Total_Number_of_Orders\n",
    "\n",
    "Purchase_Frequency =  Total_Number_of_Orders / Total_Number_of_Customers\n",
    "\n",
    "Churn_Rate = 1 - Repeat_Rate\n",
    "\n",
    "1000 %25 Have Retention in one year = Churn Rate = %75...   1/0.75*12 M.\n",
    "Profit_margin"
   ]
  },
  {
   "cell_type": "code",
   "execution_count": 37,
   "metadata": {},
   "outputs": [],
   "source": [
    "import pandas as pd\n",
    "import matplotlib.pyplot as plt\n",
    "pd.set_option('display.max_columns', 20)\n",
    "# pd.set_option('display.max_rows', 20)\n",
    "pd.set_option('display.float_format', lambda x: '%.5f' % x)\n",
    "from sklearn.preprocessing import MinMaxScaler"
   ]
  },
  {
   "cell_type": "code",
   "execution_count": 38,
   "metadata": {},
   "outputs": [
    {
     "data": {
      "text/html": [
       "<div>\n",
       "<style scoped>\n",
       "    .dataframe tbody tr th:only-of-type {\n",
       "        vertical-align: middle;\n",
       "    }\n",
       "\n",
       "    .dataframe tbody tr th {\n",
       "        vertical-align: top;\n",
       "    }\n",
       "\n",
       "    .dataframe thead th {\n",
       "        text-align: right;\n",
       "    }\n",
       "</style>\n",
       "<table border=\"1\" class=\"dataframe\">\n",
       "  <thead>\n",
       "    <tr style=\"text-align: right;\">\n",
       "      <th></th>\n",
       "      <th>Invoice</th>\n",
       "      <th>StockCode</th>\n",
       "      <th>Description</th>\n",
       "      <th>Quantity</th>\n",
       "      <th>InvoiceDate</th>\n",
       "      <th>Price</th>\n",
       "      <th>Customer ID</th>\n",
       "      <th>Country</th>\n",
       "    </tr>\n",
       "  </thead>\n",
       "  <tbody>\n",
       "    <tr>\n",
       "      <th>0</th>\n",
       "      <td>536365</td>\n",
       "      <td>85123A</td>\n",
       "      <td>WHITE HANGING HEART T-LIGHT HOLDER</td>\n",
       "      <td>6</td>\n",
       "      <td>2010-12-01 08:26:00</td>\n",
       "      <td>2.55000</td>\n",
       "      <td>17850.00000</td>\n",
       "      <td>United Kingdom</td>\n",
       "    </tr>\n",
       "    <tr>\n",
       "      <th>1</th>\n",
       "      <td>536365</td>\n",
       "      <td>71053</td>\n",
       "      <td>WHITE METAL LANTERN</td>\n",
       "      <td>6</td>\n",
       "      <td>2010-12-01 08:26:00</td>\n",
       "      <td>3.39000</td>\n",
       "      <td>17850.00000</td>\n",
       "      <td>United Kingdom</td>\n",
       "    </tr>\n",
       "    <tr>\n",
       "      <th>2</th>\n",
       "      <td>536365</td>\n",
       "      <td>84406B</td>\n",
       "      <td>CREAM CUPID HEARTS COAT HANGER</td>\n",
       "      <td>8</td>\n",
       "      <td>2010-12-01 08:26:00</td>\n",
       "      <td>2.75000</td>\n",
       "      <td>17850.00000</td>\n",
       "      <td>United Kingdom</td>\n",
       "    </tr>\n",
       "    <tr>\n",
       "      <th>3</th>\n",
       "      <td>536365</td>\n",
       "      <td>84029G</td>\n",
       "      <td>KNITTED UNION FLAG HOT WATER BOTTLE</td>\n",
       "      <td>6</td>\n",
       "      <td>2010-12-01 08:26:00</td>\n",
       "      <td>3.39000</td>\n",
       "      <td>17850.00000</td>\n",
       "      <td>United Kingdom</td>\n",
       "    </tr>\n",
       "    <tr>\n",
       "      <th>4</th>\n",
       "      <td>536365</td>\n",
       "      <td>84029E</td>\n",
       "      <td>RED WOOLLY HOTTIE WHITE HEART.</td>\n",
       "      <td>6</td>\n",
       "      <td>2010-12-01 08:26:00</td>\n",
       "      <td>3.39000</td>\n",
       "      <td>17850.00000</td>\n",
       "      <td>United Kingdom</td>\n",
       "    </tr>\n",
       "  </tbody>\n",
       "</table>\n",
       "</div>"
      ],
      "text/plain": [
       "  Invoice StockCode                          Description  Quantity  \\\n",
       "0  536365    85123A   WHITE HANGING HEART T-LIGHT HOLDER         6   \n",
       "1  536365     71053                  WHITE METAL LANTERN         6   \n",
       "2  536365    84406B       CREAM CUPID HEARTS COAT HANGER         8   \n",
       "3  536365    84029G  KNITTED UNION FLAG HOT WATER BOTTLE         6   \n",
       "4  536365    84029E       RED WOOLLY HOTTIE WHITE HEART.         6   \n",
       "\n",
       "          InvoiceDate   Price  Customer ID         Country  \n",
       "0 2010-12-01 08:26:00 2.55000  17850.00000  United Kingdom  \n",
       "1 2010-12-01 08:26:00 3.39000  17850.00000  United Kingdom  \n",
       "2 2010-12-01 08:26:00 2.75000  17850.00000  United Kingdom  \n",
       "3 2010-12-01 08:26:00 3.39000  17850.00000  United Kingdom  \n",
       "4 2010-12-01 08:26:00 3.39000  17850.00000  United Kingdom  "
      ]
     },
     "execution_count": 38,
     "metadata": {},
     "output_type": "execute_result"
    }
   ],
   "source": [
    "df_ = pd.read_excel(r\"online_retail_II.xlsx\",\n",
    "                    sheet_name=\"Year 2010-2011\")\n",
    "df = df_.copy()\n",
    "df.head()"
   ]
  },
  {
   "cell_type": "markdown",
   "metadata": {},
   "source": [
    "**DATA PREPARATION**\n",
    "\n",
    "Please Calculate LTV for the countries below;\n",
    "\n",
    "United Kingdom\n",
    "\n",
    "Germany\n",
    "\n",
    "France\n",
    "\n",
    "Spain"
   ]
  },
  {
   "cell_type": "code",
   "execution_count": 39,
   "metadata": {},
   "outputs": [
    {
     "data": {
      "text/plain": [
       "(541910, 8)"
      ]
     },
     "execution_count": 39,
     "metadata": {},
     "output_type": "execute_result"
    }
   ],
   "source": [
    "df.shape"
   ]
  },
  {
   "cell_type": "code",
   "execution_count": 40,
   "metadata": {},
   "outputs": [
    {
     "data": {
      "text/plain": [
       "array(['United Kingdom', 'France', 'Australia', 'Netherlands', 'Germany',\n",
       "       'Norway', 'EIRE', 'Switzerland', 'Spain', 'Poland', 'Portugal',\n",
       "       'Italy', 'Belgium', 'Lithuania', 'Japan', 'Iceland',\n",
       "       'Channel Islands', 'Denmark', 'Cyprus', 'Sweden', 'Austria',\n",
       "       'Israel', 'Finland', 'Bahrain', 'Greece', 'Hong Kong', 'Singapore',\n",
       "       'Lebanon', 'United Arab Emirates', 'Saudi Arabia',\n",
       "       'Czech Republic', 'Canada', 'Unspecified', 'Brazil', 'USA',\n",
       "       'European Community', 'Malta', 'RSA'], dtype=object)"
      ]
     },
     "execution_count": 40,
     "metadata": {},
     "output_type": "execute_result"
    }
   ],
   "source": [
    "df['Country'].unique()"
   ]
  },
  {
   "cell_type": "code",
   "execution_count": 41,
   "metadata": {},
   "outputs": [
    {
     "data": {
      "text/html": [
       "<div>\n",
       "<style scoped>\n",
       "    .dataframe tbody tr th:only-of-type {\n",
       "        vertical-align: middle;\n",
       "    }\n",
       "\n",
       "    .dataframe tbody tr th {\n",
       "        vertical-align: top;\n",
       "    }\n",
       "\n",
       "    .dataframe thead th {\n",
       "        text-align: right;\n",
       "    }\n",
       "</style>\n",
       "<table border=\"1\" class=\"dataframe\">\n",
       "  <thead>\n",
       "    <tr style=\"text-align: right;\">\n",
       "      <th></th>\n",
       "      <th>Invoice</th>\n",
       "      <th>StockCode</th>\n",
       "      <th>Description</th>\n",
       "      <th>Quantity</th>\n",
       "      <th>InvoiceDate</th>\n",
       "      <th>Price</th>\n",
       "      <th>Customer ID</th>\n",
       "      <th>Country</th>\n",
       "    </tr>\n",
       "  </thead>\n",
       "  <tbody>\n",
       "    <tr>\n",
       "      <th>0</th>\n",
       "      <td>536365</td>\n",
       "      <td>85123A</td>\n",
       "      <td>WHITE HANGING HEART T-LIGHT HOLDER</td>\n",
       "      <td>6</td>\n",
       "      <td>2010-12-01 08:26:00</td>\n",
       "      <td>2.55000</td>\n",
       "      <td>17850.00000</td>\n",
       "      <td>United Kingdom</td>\n",
       "    </tr>\n",
       "    <tr>\n",
       "      <th>1</th>\n",
       "      <td>536365</td>\n",
       "      <td>71053</td>\n",
       "      <td>WHITE METAL LANTERN</td>\n",
       "      <td>6</td>\n",
       "      <td>2010-12-01 08:26:00</td>\n",
       "      <td>3.39000</td>\n",
       "      <td>17850.00000</td>\n",
       "      <td>United Kingdom</td>\n",
       "    </tr>\n",
       "    <tr>\n",
       "      <th>2</th>\n",
       "      <td>536365</td>\n",
       "      <td>84406B</td>\n",
       "      <td>CREAM CUPID HEARTS COAT HANGER</td>\n",
       "      <td>8</td>\n",
       "      <td>2010-12-01 08:26:00</td>\n",
       "      <td>2.75000</td>\n",
       "      <td>17850.00000</td>\n",
       "      <td>United Kingdom</td>\n",
       "    </tr>\n",
       "    <tr>\n",
       "      <th>3</th>\n",
       "      <td>536365</td>\n",
       "      <td>84029G</td>\n",
       "      <td>KNITTED UNION FLAG HOT WATER BOTTLE</td>\n",
       "      <td>6</td>\n",
       "      <td>2010-12-01 08:26:00</td>\n",
       "      <td>3.39000</td>\n",
       "      <td>17850.00000</td>\n",
       "      <td>United Kingdom</td>\n",
       "    </tr>\n",
       "    <tr>\n",
       "      <th>4</th>\n",
       "      <td>536365</td>\n",
       "      <td>84029E</td>\n",
       "      <td>RED WOOLLY HOTTIE WHITE HEART.</td>\n",
       "      <td>6</td>\n",
       "      <td>2010-12-01 08:26:00</td>\n",
       "      <td>3.39000</td>\n",
       "      <td>17850.00000</td>\n",
       "      <td>United Kingdom</td>\n",
       "    </tr>\n",
       "  </tbody>\n",
       "</table>\n",
       "</div>"
      ],
      "text/plain": [
       "  Invoice StockCode                          Description  Quantity  \\\n",
       "0  536365    85123A   WHITE HANGING HEART T-LIGHT HOLDER         6   \n",
       "1  536365     71053                  WHITE METAL LANTERN         6   \n",
       "2  536365    84406B       CREAM CUPID HEARTS COAT HANGER         8   \n",
       "3  536365    84029G  KNITTED UNION FLAG HOT WATER BOTTLE         6   \n",
       "4  536365    84029E       RED WOOLLY HOTTIE WHITE HEART.         6   \n",
       "\n",
       "          InvoiceDate   Price  Customer ID         Country  \n",
       "0 2010-12-01 08:26:00 2.55000  17850.00000  United Kingdom  \n",
       "1 2010-12-01 08:26:00 3.39000  17850.00000  United Kingdom  \n",
       "2 2010-12-01 08:26:00 2.75000  17850.00000  United Kingdom  \n",
       "3 2010-12-01 08:26:00 3.39000  17850.00000  United Kingdom  \n",
       "4 2010-12-01 08:26:00 3.39000  17850.00000  United Kingdom  "
      ]
     },
     "execution_count": 41,
     "metadata": {},
     "output_type": "execute_result"
    }
   ],
   "source": [
    "countries = ['United Kingdom', 'Germany', 'France', 'Spain']\n",
    "df = df[df.Country.isin(countries)]\n",
    "\n",
    "df.head()"
   ]
  },
  {
   "cell_type": "code",
   "execution_count": 42,
   "metadata": {},
   "outputs": [
    {
     "data": {
      "text/plain": [
       "array(['United Kingdom', 'France', 'Germany', 'Spain'], dtype=object)"
      ]
     },
     "execution_count": 42,
     "metadata": {},
     "output_type": "execute_result"
    }
   ],
   "source": [
    "# Check if filtered\n",
    "\n",
    "df['Country'].unique()"
   ]
  },
  {
   "cell_type": "code",
   "execution_count": 43,
   "metadata": {},
   "outputs": [
    {
     "data": {
      "text/plain": [
       "(507558, 8)"
      ]
     },
     "execution_count": 43,
     "metadata": {},
     "output_type": "execute_result"
    }
   ],
   "source": [
    "df = df[~df[\"Invoice\"].str.contains(\"C\", na=False)]\n",
    "df.shape"
   ]
  },
  {
   "cell_type": "code",
   "execution_count": 44,
   "metadata": {},
   "outputs": [
    {
     "data": {
      "text/plain": [
       "(374215, 8)"
      ]
     },
     "execution_count": 44,
     "metadata": {},
     "output_type": "execute_result"
    }
   ],
   "source": [
    "df = df[(df['Quantity'] > 0)]\n",
    "df.dropna(inplace=True)\n",
    "\n",
    "df.shape"
   ]
  },
  {
   "cell_type": "code",
   "execution_count": 45,
   "metadata": {},
   "outputs": [
    {
     "data": {
      "text/html": [
       "<div>\n",
       "<style scoped>\n",
       "    .dataframe tbody tr th:only-of-type {\n",
       "        vertical-align: middle;\n",
       "    }\n",
       "\n",
       "    .dataframe tbody tr th {\n",
       "        vertical-align: top;\n",
       "    }\n",
       "\n",
       "    .dataframe thead th {\n",
       "        text-align: right;\n",
       "    }\n",
       "</style>\n",
       "<table border=\"1\" class=\"dataframe\">\n",
       "  <thead>\n",
       "    <tr style=\"text-align: right;\">\n",
       "      <th></th>\n",
       "      <th>Invoice</th>\n",
       "      <th>StockCode</th>\n",
       "      <th>Description</th>\n",
       "      <th>Quantity</th>\n",
       "      <th>InvoiceDate</th>\n",
       "      <th>Price</th>\n",
       "      <th>Customer ID</th>\n",
       "      <th>Country</th>\n",
       "      <th>TotalPrice</th>\n",
       "    </tr>\n",
       "  </thead>\n",
       "  <tbody>\n",
       "    <tr>\n",
       "      <th>0</th>\n",
       "      <td>536365</td>\n",
       "      <td>85123A</td>\n",
       "      <td>WHITE HANGING HEART T-LIGHT HOLDER</td>\n",
       "      <td>6</td>\n",
       "      <td>2010-12-01 08:26:00</td>\n",
       "      <td>2.55000</td>\n",
       "      <td>17850.00000</td>\n",
       "      <td>United Kingdom</td>\n",
       "      <td>15.30000</td>\n",
       "    </tr>\n",
       "    <tr>\n",
       "      <th>1</th>\n",
       "      <td>536365</td>\n",
       "      <td>71053</td>\n",
       "      <td>WHITE METAL LANTERN</td>\n",
       "      <td>6</td>\n",
       "      <td>2010-12-01 08:26:00</td>\n",
       "      <td>3.39000</td>\n",
       "      <td>17850.00000</td>\n",
       "      <td>United Kingdom</td>\n",
       "      <td>20.34000</td>\n",
       "    </tr>\n",
       "    <tr>\n",
       "      <th>2</th>\n",
       "      <td>536365</td>\n",
       "      <td>84406B</td>\n",
       "      <td>CREAM CUPID HEARTS COAT HANGER</td>\n",
       "      <td>8</td>\n",
       "      <td>2010-12-01 08:26:00</td>\n",
       "      <td>2.75000</td>\n",
       "      <td>17850.00000</td>\n",
       "      <td>United Kingdom</td>\n",
       "      <td>22.00000</td>\n",
       "    </tr>\n",
       "    <tr>\n",
       "      <th>3</th>\n",
       "      <td>536365</td>\n",
       "      <td>84029G</td>\n",
       "      <td>KNITTED UNION FLAG HOT WATER BOTTLE</td>\n",
       "      <td>6</td>\n",
       "      <td>2010-12-01 08:26:00</td>\n",
       "      <td>3.39000</td>\n",
       "      <td>17850.00000</td>\n",
       "      <td>United Kingdom</td>\n",
       "      <td>20.34000</td>\n",
       "    </tr>\n",
       "    <tr>\n",
       "      <th>4</th>\n",
       "      <td>536365</td>\n",
       "      <td>84029E</td>\n",
       "      <td>RED WOOLLY HOTTIE WHITE HEART.</td>\n",
       "      <td>6</td>\n",
       "      <td>2010-12-01 08:26:00</td>\n",
       "      <td>3.39000</td>\n",
       "      <td>17850.00000</td>\n",
       "      <td>United Kingdom</td>\n",
       "      <td>20.34000</td>\n",
       "    </tr>\n",
       "  </tbody>\n",
       "</table>\n",
       "</div>"
      ],
      "text/plain": [
       "  Invoice StockCode                          Description  Quantity  \\\n",
       "0  536365    85123A   WHITE HANGING HEART T-LIGHT HOLDER         6   \n",
       "1  536365     71053                  WHITE METAL LANTERN         6   \n",
       "2  536365    84406B       CREAM CUPID HEARTS COAT HANGER         8   \n",
       "3  536365    84029G  KNITTED UNION FLAG HOT WATER BOTTLE         6   \n",
       "4  536365    84029E       RED WOOLLY HOTTIE WHITE HEART.         6   \n",
       "\n",
       "          InvoiceDate   Price  Customer ID         Country  TotalPrice  \n",
       "0 2010-12-01 08:26:00 2.55000  17850.00000  United Kingdom    15.30000  \n",
       "1 2010-12-01 08:26:00 3.39000  17850.00000  United Kingdom    20.34000  \n",
       "2 2010-12-01 08:26:00 2.75000  17850.00000  United Kingdom    22.00000  \n",
       "3 2010-12-01 08:26:00 3.39000  17850.00000  United Kingdom    20.34000  \n",
       "4 2010-12-01 08:26:00 3.39000  17850.00000  United Kingdom    20.34000  "
      ]
     },
     "execution_count": 45,
     "metadata": {},
     "output_type": "execute_result"
    }
   ],
   "source": [
    "df[\"TotalPrice\"] = df[\"Quantity\"] * df[\"Price\"]\n",
    "\n",
    "df.head()"
   ]
  },
  {
   "cell_type": "code",
   "execution_count": 46,
   "metadata": {},
   "outputs": [
    {
     "data": {
      "text/html": [
       "<div>\n",
       "<style scoped>\n",
       "    .dataframe tbody tr th:only-of-type {\n",
       "        vertical-align: middle;\n",
       "    }\n",
       "\n",
       "    .dataframe tbody tr th {\n",
       "        vertical-align: top;\n",
       "    }\n",
       "\n",
       "    .dataframe thead th {\n",
       "        text-align: right;\n",
       "    }\n",
       "</style>\n",
       "<table border=\"1\" class=\"dataframe\">\n",
       "  <thead>\n",
       "    <tr style=\"text-align: right;\">\n",
       "      <th></th>\n",
       "      <th>total_transaction</th>\n",
       "      <th>total_unit</th>\n",
       "      <th>total_price</th>\n",
       "    </tr>\n",
       "    <tr>\n",
       "      <th>Customer ID</th>\n",
       "      <th></th>\n",
       "      <th></th>\n",
       "      <th></th>\n",
       "    </tr>\n",
       "  </thead>\n",
       "  <tbody>\n",
       "    <tr>\n",
       "      <th>12346.00000</th>\n",
       "      <td>1</td>\n",
       "      <td>74215</td>\n",
       "      <td>77183.60000</td>\n",
       "    </tr>\n",
       "    <tr>\n",
       "      <th>12354.00000</th>\n",
       "      <td>1</td>\n",
       "      <td>530</td>\n",
       "      <td>1079.40000</td>\n",
       "    </tr>\n",
       "    <tr>\n",
       "      <th>12413.00000</th>\n",
       "      <td>3</td>\n",
       "      <td>286</td>\n",
       "      <td>758.10000</td>\n",
       "    </tr>\n",
       "    <tr>\n",
       "      <th>12417.00000</th>\n",
       "      <td>1</td>\n",
       "      <td>267</td>\n",
       "      <td>436.30000</td>\n",
       "    </tr>\n",
       "    <tr>\n",
       "      <th>12421.00000</th>\n",
       "      <td>4</td>\n",
       "      <td>484</td>\n",
       "      <td>807.04000</td>\n",
       "    </tr>\n",
       "  </tbody>\n",
       "</table>\n",
       "</div>"
      ],
      "text/plain": [
       "             total_transaction  total_unit  total_price\n",
       "Customer ID                                            \n",
       "12346.00000                  1       74215  77183.60000\n",
       "12354.00000                  1         530   1079.40000\n",
       "12413.00000                  3         286    758.10000\n",
       "12417.00000                  1         267    436.30000\n",
       "12421.00000                  4         484    807.04000"
      ]
     },
     "execution_count": 46,
     "metadata": {},
     "output_type": "execute_result"
    }
   ],
   "source": [
    "cltv_df = df.groupby('Customer ID').agg({'Invoice': lambda x: x.nunique(),\n",
    "                                         'Quantity': lambda x: x.sum(),\n",
    "                                         'TotalPrice': lambda x: x.sum()})\n",
    "\n",
    "cltv_df.columns = ['total_transaction', 'total_unit', 'total_price']\n",
    "\n",
    "cltv_df.head()"
   ]
  },
  {
   "cell_type": "markdown",
   "metadata": {},
   "source": [
    "**AVERAGE ORDER VALUE**"
   ]
  },
  {
   "cell_type": "code",
   "execution_count": 47,
   "metadata": {},
   "outputs": [
    {
     "data": {
      "text/plain": [
       "4132"
      ]
     },
     "execution_count": 47,
     "metadata": {},
     "output_type": "execute_result"
    }
   ],
   "source": [
    "cltv_df.shape[0]"
   ]
  },
  {
   "cell_type": "code",
   "execution_count": 48,
   "metadata": {},
   "outputs": [
    {
     "data": {
      "text/html": [
       "<div>\n",
       "<style scoped>\n",
       "    .dataframe tbody tr th:only-of-type {\n",
       "        vertical-align: middle;\n",
       "    }\n",
       "\n",
       "    .dataframe tbody tr th {\n",
       "        vertical-align: top;\n",
       "    }\n",
       "\n",
       "    .dataframe thead th {\n",
       "        text-align: right;\n",
       "    }\n",
       "</style>\n",
       "<table border=\"1\" class=\"dataframe\">\n",
       "  <thead>\n",
       "    <tr style=\"text-align: right;\">\n",
       "      <th></th>\n",
       "      <th>total_transaction</th>\n",
       "      <th>total_unit</th>\n",
       "      <th>total_price</th>\n",
       "      <th>avg_order_value</th>\n",
       "    </tr>\n",
       "    <tr>\n",
       "      <th>Customer ID</th>\n",
       "      <th></th>\n",
       "      <th></th>\n",
       "      <th></th>\n",
       "      <th></th>\n",
       "    </tr>\n",
       "  </thead>\n",
       "  <tbody>\n",
       "    <tr>\n",
       "      <th>12346.00000</th>\n",
       "      <td>1</td>\n",
       "      <td>74215</td>\n",
       "      <td>77183.60000</td>\n",
       "      <td>77183.60000</td>\n",
       "    </tr>\n",
       "    <tr>\n",
       "      <th>12354.00000</th>\n",
       "      <td>1</td>\n",
       "      <td>530</td>\n",
       "      <td>1079.40000</td>\n",
       "      <td>1079.40000</td>\n",
       "    </tr>\n",
       "    <tr>\n",
       "      <th>12413.00000</th>\n",
       "      <td>3</td>\n",
       "      <td>286</td>\n",
       "      <td>758.10000</td>\n",
       "      <td>252.70000</td>\n",
       "    </tr>\n",
       "    <tr>\n",
       "      <th>12417.00000</th>\n",
       "      <td>1</td>\n",
       "      <td>267</td>\n",
       "      <td>436.30000</td>\n",
       "      <td>436.30000</td>\n",
       "    </tr>\n",
       "    <tr>\n",
       "      <th>12421.00000</th>\n",
       "      <td>4</td>\n",
       "      <td>484</td>\n",
       "      <td>807.04000</td>\n",
       "      <td>201.76000</td>\n",
       "    </tr>\n",
       "  </tbody>\n",
       "</table>\n",
       "</div>"
      ],
      "text/plain": [
       "             total_transaction  total_unit  total_price  avg_order_value\n",
       "Customer ID                                                             \n",
       "12346.00000                  1       74215  77183.60000      77183.60000\n",
       "12354.00000                  1         530   1079.40000       1079.40000\n",
       "12413.00000                  3         286    758.10000        252.70000\n",
       "12417.00000                  1         267    436.30000        436.30000\n",
       "12421.00000                  4         484    807.04000        201.76000"
      ]
     },
     "execution_count": 48,
     "metadata": {},
     "output_type": "execute_result"
    }
   ],
   "source": [
    "cltv_df['avg_order_value'] = cltv_df['total_price'] / cltv_df['total_transaction']\n",
    "cltv_df.head()"
   ]
  },
  {
   "cell_type": "markdown",
   "metadata": {},
   "source": [
    "**PURCHASE FREQUENCY**\n",
    "Keep an eye out for outliers 👀!"
   ]
  },
  {
   "cell_type": "code",
   "execution_count": 49,
   "metadata": {},
   "outputs": [
    {
     "data": {
      "text/html": [
       "<div>\n",
       "<style scoped>\n",
       "    .dataframe tbody tr th:only-of-type {\n",
       "        vertical-align: middle;\n",
       "    }\n",
       "\n",
       "    .dataframe tbody tr th {\n",
       "        vertical-align: top;\n",
       "    }\n",
       "\n",
       "    .dataframe thead th {\n",
       "        text-align: right;\n",
       "    }\n",
       "</style>\n",
       "<table border=\"1\" class=\"dataframe\">\n",
       "  <thead>\n",
       "    <tr style=\"text-align: right;\">\n",
       "      <th></th>\n",
       "      <th>count</th>\n",
       "      <th>mean</th>\n",
       "      <th>std</th>\n",
       "      <th>min</th>\n",
       "      <th>25%</th>\n",
       "      <th>50%</th>\n",
       "      <th>75%</th>\n",
       "      <th>max</th>\n",
       "    </tr>\n",
       "  </thead>\n",
       "  <tbody>\n",
       "    <tr>\n",
       "      <th>total_transaction</th>\n",
       "      <td>4132.00000</td>\n",
       "      <td>4.25581</td>\n",
       "      <td>7.11867</td>\n",
       "      <td>1.00000</td>\n",
       "      <td>1.00000</td>\n",
       "      <td>2.00000</td>\n",
       "      <td>5.00000</td>\n",
       "      <td>210.00000</td>\n",
       "    </tr>\n",
       "    <tr>\n",
       "      <th>total_unit</th>\n",
       "      <td>4132.00000</td>\n",
       "      <td>1095.87585</td>\n",
       "      <td>3665.12533</td>\n",
       "      <td>1.00000</td>\n",
       "      <td>158.00000</td>\n",
       "      <td>371.00000</td>\n",
       "      <td>976.25000</td>\n",
       "      <td>80997.00000</td>\n",
       "    </tr>\n",
       "    <tr>\n",
       "      <th>total_price</th>\n",
       "      <td>4132.00000</td>\n",
       "      <td>1889.61226</td>\n",
       "      <td>7330.54534</td>\n",
       "      <td>0.00000</td>\n",
       "      <td>302.99250</td>\n",
       "      <td>659.42500</td>\n",
       "      <td>1615.85500</td>\n",
       "      <td>259657.30000</td>\n",
       "    </tr>\n",
       "    <tr>\n",
       "      <th>avg_order_value</th>\n",
       "      <td>4132.00000</td>\n",
       "      <td>399.87764</td>\n",
       "      <td>1826.21945</td>\n",
       "      <td>0.00000</td>\n",
       "      <td>176.46125</td>\n",
       "      <td>285.84150</td>\n",
       "      <td>417.43500</td>\n",
       "      <td>84236.25000</td>\n",
       "    </tr>\n",
       "  </tbody>\n",
       "</table>\n",
       "</div>"
      ],
      "text/plain": [
       "                       count       mean        std     min       25%  \\\n",
       "total_transaction 4132.00000    4.25581    7.11867 1.00000   1.00000   \n",
       "total_unit        4132.00000 1095.87585 3665.12533 1.00000 158.00000   \n",
       "total_price       4132.00000 1889.61226 7330.54534 0.00000 302.99250   \n",
       "avg_order_value   4132.00000  399.87764 1826.21945 0.00000 176.46125   \n",
       "\n",
       "                        50%        75%          max  \n",
       "total_transaction   2.00000    5.00000    210.00000  \n",
       "total_unit        371.00000  976.25000  80997.00000  \n",
       "total_price       659.42500 1615.85500 259657.30000  \n",
       "avg_order_value   285.84150  417.43500  84236.25000  "
      ]
     },
     "execution_count": 49,
     "metadata": {},
     "output_type": "execute_result"
    }
   ],
   "source": [
    "cltv_df.describe().T"
   ]
  },
  {
   "cell_type": "code",
   "execution_count": 50,
   "metadata": {},
   "outputs": [],
   "source": [
    "def outlier_thresholds(dataframe, col_name, q1=0.25, q3=0.75):\n",
    "    quartile1 = dataframe[col_name].quantile(q1)\n",
    "    quartile3 = dataframe[col_name].quantile(q3)\n",
    "    interquantile_range = quartile3 - quartile1\n",
    "    up_limit = quartile3 + 1.5 * interquantile_range\n",
    "    low_limit = quartile1 - 1.5 * interquantile_range\n",
    "    return low_limit, up_limit"
   ]
  },
  {
   "cell_type": "code",
   "execution_count": 51,
   "metadata": {},
   "outputs": [],
   "source": [
    "def replace_with_thresholds(dataframe, variable):\n",
    "    low_limit, up_limit = outlier_thresholds(dataframe, variable)\n",
    "    dataframe.loc[(dataframe[variable] < low_limit), variable] = low_limit\n",
    "    dataframe.loc[(dataframe[variable] > up_limit), variable] = up_limit"
   ]
  },
  {
   "cell_type": "code",
   "execution_count": 52,
   "metadata": {},
   "outputs": [
    {
     "data": {
      "text/html": [
       "<div>\n",
       "<style scoped>\n",
       "    .dataframe tbody tr th:only-of-type {\n",
       "        vertical-align: middle;\n",
       "    }\n",
       "\n",
       "    .dataframe tbody tr th {\n",
       "        vertical-align: top;\n",
       "    }\n",
       "\n",
       "    .dataframe thead th {\n",
       "        text-align: right;\n",
       "    }\n",
       "</style>\n",
       "<table border=\"1\" class=\"dataframe\">\n",
       "  <thead>\n",
       "    <tr style=\"text-align: right;\">\n",
       "      <th></th>\n",
       "      <th>total_transaction</th>\n",
       "      <th>total_unit</th>\n",
       "      <th>total_price</th>\n",
       "      <th>avg_order_value</th>\n",
       "    </tr>\n",
       "    <tr>\n",
       "      <th>Customer ID</th>\n",
       "      <th></th>\n",
       "      <th></th>\n",
       "      <th></th>\n",
       "      <th></th>\n",
       "    </tr>\n",
       "  </thead>\n",
       "  <tbody>\n",
       "    <tr>\n",
       "      <th>12346.00000</th>\n",
       "      <td>1</td>\n",
       "      <td>2203.62500</td>\n",
       "      <td>3585.14875</td>\n",
       "      <td>778.89562</td>\n",
       "    </tr>\n",
       "    <tr>\n",
       "      <th>12354.00000</th>\n",
       "      <td>1</td>\n",
       "      <td>530.00000</td>\n",
       "      <td>1079.40000</td>\n",
       "      <td>778.89562</td>\n",
       "    </tr>\n",
       "    <tr>\n",
       "      <th>12413.00000</th>\n",
       "      <td>3</td>\n",
       "      <td>286.00000</td>\n",
       "      <td>758.10000</td>\n",
       "      <td>252.70000</td>\n",
       "    </tr>\n",
       "    <tr>\n",
       "      <th>12417.00000</th>\n",
       "      <td>1</td>\n",
       "      <td>267.00000</td>\n",
       "      <td>436.30000</td>\n",
       "      <td>436.30000</td>\n",
       "    </tr>\n",
       "    <tr>\n",
       "      <th>12421.00000</th>\n",
       "      <td>4</td>\n",
       "      <td>484.00000</td>\n",
       "      <td>807.04000</td>\n",
       "      <td>201.76000</td>\n",
       "    </tr>\n",
       "  </tbody>\n",
       "</table>\n",
       "</div>"
      ],
      "text/plain": [
       "             total_transaction  total_unit  total_price  avg_order_value\n",
       "Customer ID                                                             \n",
       "12346.00000                  1  2203.62500   3585.14875        778.89562\n",
       "12354.00000                  1   530.00000   1079.40000        778.89562\n",
       "12413.00000                  3   286.00000    758.10000        252.70000\n",
       "12417.00000                  1   267.00000    436.30000        436.30000\n",
       "12421.00000                  4   484.00000    807.04000        201.76000"
      ]
     },
     "execution_count": 52,
     "metadata": {},
     "output_type": "execute_result"
    }
   ],
   "source": [
    "outlierTest = [\"total_transaction\",\"total_unit\",\"total_price\",\"avg_order_value\"]\n",
    "\n",
    "for col in outlierTest:\n",
    "    replace_with_thresholds(cltv_df,col)\n",
    "\n",
    "cltv_df.head()"
   ]
  },
  {
   "cell_type": "code",
   "execution_count": 53,
   "metadata": {},
   "outputs": [
    {
     "data": {
      "text/plain": [
       "(4132, 4)"
      ]
     },
     "execution_count": 53,
     "metadata": {},
     "output_type": "execute_result"
    }
   ],
   "source": [
    "cltv_df.shape"
   ]
  },
  {
   "cell_type": "code",
   "execution_count": 54,
   "metadata": {},
   "outputs": [
    {
     "data": {
      "text/plain": [
       "4132"
      ]
     },
     "execution_count": 54,
     "metadata": {},
     "output_type": "execute_result"
    }
   ],
   "source": [
    "cltv_df.shape[0]"
   ]
  },
  {
   "cell_type": "code",
   "execution_count": 55,
   "metadata": {},
   "outputs": [
    {
     "data": {
      "text/plain": [
       "3.5077444336882864"
      ]
     },
     "execution_count": 55,
     "metadata": {},
     "output_type": "execute_result"
    }
   ],
   "source": [
    "#cltv_df[\"purchase_frequency\"] = cltv_df['total_transaction']/ cltv_df.shape[0]\n",
    "purchase_frequency = cltv_df['total_transaction'].sum() / cltv_df.shape[0]\n",
    "purchase_frequency"
   ]
  },
  {
   "cell_type": "markdown",
   "metadata": {},
   "source": [
    "**REPEAT RATE AND CHURN RATE**"
   ]
  },
  {
   "cell_type": "code",
   "execution_count": 56,
   "metadata": {},
   "outputs": [
    {
     "data": {
      "text/plain": [
       "0.6573088092933205"
      ]
     },
     "execution_count": 56,
     "metadata": {},
     "output_type": "execute_result"
    }
   ],
   "source": [
    "repeat_rate = cltv_df[cltv_df.total_transaction > 1].shape[0] / cltv_df.shape[0]\n",
    "repeat_rate"
   ]
  },
  {
   "cell_type": "code",
   "execution_count": 57,
   "metadata": {},
   "outputs": [
    {
     "data": {
      "text/plain": [
       "0.3426911907066795"
      ]
     },
     "execution_count": 57,
     "metadata": {},
     "output_type": "execute_result"
    }
   ],
   "source": [
    "churn_rate = 1 - repeat_rate # in one year\n",
    "churn_rate # in one year"
   ]
  },
  {
   "cell_type": "code",
   "execution_count": 58,
   "metadata": {},
   "outputs": [
    {
     "data": {
      "text/plain": [
       "0.3426911907066795"
      ]
     },
     "execution_count": 58,
     "metadata": {},
     "output_type": "execute_result"
    }
   ],
   "source": [
    "LT = 1/churn_rate\n",
    "churn_rate"
   ]
  },
  {
   "cell_type": "code",
   "execution_count": 59,
   "metadata": {},
   "outputs": [
    {
     "name": "stdout",
     "output_type": "stream",
     "text": [
      "2.918079096045198\n",
      "35.01694915254238\n"
     ]
    }
   ],
   "source": [
    "print(LT) # 3 year\n",
    "print(LT*12) # 3 year"
   ]
  },
  {
   "cell_type": "code",
   "execution_count": 60,
   "metadata": {},
   "outputs": [
    {
     "name": "stdout",
     "output_type": "stream",
     "text": [
      "Customer Life Time Value for All Customers : 495.8496263929652\n"
     ]
    }
   ],
   "source": [
    "# margin is 0.15\n",
    "CLTV = LT * purchase_frequency * cltv_df['avg_order_value'].mean() * 0.15\n",
    "print(\"Customer Life Time Value for All Customers :\" , CLTV)"
   ]
  },
  {
   "cell_type": "markdown",
   "metadata": {},
   "source": [
    "**CAC RATIO**\n",
    "For CAC=100 pounds"
   ]
  },
  {
   "cell_type": "code",
   "execution_count": 61,
   "metadata": {},
   "outputs": [
    {
     "name": "stdout",
     "output_type": "stream",
     "text": [
      "CLTV_CAC_Ratio : 4.958496263929652\n"
     ]
    },
    {
     "data": {
      "text/html": [
       "<div>\n",
       "<style scoped>\n",
       "    .dataframe tbody tr th:only-of-type {\n",
       "        vertical-align: middle;\n",
       "    }\n",
       "\n",
       "    .dataframe tbody tr th {\n",
       "        vertical-align: top;\n",
       "    }\n",
       "\n",
       "    .dataframe thead th {\n",
       "        text-align: right;\n",
       "    }\n",
       "</style>\n",
       "<table border=\"1\" class=\"dataframe\">\n",
       "  <thead>\n",
       "    <tr style=\"text-align: right;\">\n",
       "      <th></th>\n",
       "      <th>total_transaction</th>\n",
       "      <th>total_unit</th>\n",
       "      <th>total_price</th>\n",
       "      <th>avg_order_value</th>\n",
       "    </tr>\n",
       "    <tr>\n",
       "      <th>Customer ID</th>\n",
       "      <th></th>\n",
       "      <th></th>\n",
       "      <th></th>\n",
       "      <th></th>\n",
       "    </tr>\n",
       "  </thead>\n",
       "  <tbody>\n",
       "    <tr>\n",
       "      <th>12346.00000</th>\n",
       "      <td>1</td>\n",
       "      <td>2203.62500</td>\n",
       "      <td>3585.14875</td>\n",
       "      <td>778.89562</td>\n",
       "    </tr>\n",
       "    <tr>\n",
       "      <th>12354.00000</th>\n",
       "      <td>1</td>\n",
       "      <td>530.00000</td>\n",
       "      <td>1079.40000</td>\n",
       "      <td>778.89562</td>\n",
       "    </tr>\n",
       "    <tr>\n",
       "      <th>12413.00000</th>\n",
       "      <td>3</td>\n",
       "      <td>286.00000</td>\n",
       "      <td>758.10000</td>\n",
       "      <td>252.70000</td>\n",
       "    </tr>\n",
       "    <tr>\n",
       "      <th>12417.00000</th>\n",
       "      <td>1</td>\n",
       "      <td>267.00000</td>\n",
       "      <td>436.30000</td>\n",
       "      <td>436.30000</td>\n",
       "    </tr>\n",
       "    <tr>\n",
       "      <th>12421.00000</th>\n",
       "      <td>4</td>\n",
       "      <td>484.00000</td>\n",
       "      <td>807.04000</td>\n",
       "      <td>201.76000</td>\n",
       "    </tr>\n",
       "  </tbody>\n",
       "</table>\n",
       "</div>"
      ],
      "text/plain": [
       "             total_transaction  total_unit  total_price  avg_order_value\n",
       "Customer ID                                                             \n",
       "12346.00000                  1  2203.62500   3585.14875        778.89562\n",
       "12354.00000                  1   530.00000   1079.40000        778.89562\n",
       "12413.00000                  3   286.00000    758.10000        252.70000\n",
       "12417.00000                  1   267.00000    436.30000        436.30000\n",
       "12421.00000                  4   484.00000    807.04000        201.76000"
      ]
     },
     "execution_count": 61,
     "metadata": {},
     "output_type": "execute_result"
    }
   ],
   "source": [
    "CLTV_CAC_Ratio = CLTV/100\n",
    "print(\"CLTV_CAC_Ratio :\" , CLTV_CAC_Ratio)\n",
    "\n",
    "cltv_df.head()"
   ]
  },
  {
   "cell_type": "markdown",
   "metadata": {},
   "source": [
    "**RULE BASED SEGMENTATION**"
   ]
  },
  {
   "cell_type": "code",
   "execution_count": 62,
   "metadata": {},
   "outputs": [
    {
     "data": {
      "text/html": [
       "<div>\n",
       "<style scoped>\n",
       "    .dataframe tbody tr th:only-of-type {\n",
       "        vertical-align: middle;\n",
       "    }\n",
       "\n",
       "    .dataframe tbody tr th {\n",
       "        vertical-align: top;\n",
       "    }\n",
       "\n",
       "    .dataframe thead th {\n",
       "        text-align: right;\n",
       "    }\n",
       "</style>\n",
       "<table border=\"1\" class=\"dataframe\">\n",
       "  <thead>\n",
       "    <tr style=\"text-align: right;\">\n",
       "      <th></th>\n",
       "      <th>total_transaction</th>\n",
       "      <th>total_unit</th>\n",
       "      <th>total_price</th>\n",
       "      <th>avg_order_value</th>\n",
       "      <th>segment</th>\n",
       "    </tr>\n",
       "    <tr>\n",
       "      <th>Customer ID</th>\n",
       "      <th></th>\n",
       "      <th></th>\n",
       "      <th></th>\n",
       "      <th></th>\n",
       "      <th></th>\n",
       "    </tr>\n",
       "  </thead>\n",
       "  <tbody>\n",
       "    <tr>\n",
       "      <th>12346.00000</th>\n",
       "      <td>1</td>\n",
       "      <td>2203.62500</td>\n",
       "      <td>3585.14875</td>\n",
       "      <td>778.89562</td>\n",
       "      <td>A</td>\n",
       "    </tr>\n",
       "    <tr>\n",
       "      <th>12354.00000</th>\n",
       "      <td>1</td>\n",
       "      <td>530.00000</td>\n",
       "      <td>1079.40000</td>\n",
       "      <td>778.89562</td>\n",
       "      <td>A</td>\n",
       "    </tr>\n",
       "    <tr>\n",
       "      <th>12413.00000</th>\n",
       "      <td>3</td>\n",
       "      <td>286.00000</td>\n",
       "      <td>758.10000</td>\n",
       "      <td>252.70000</td>\n",
       "      <td>C</td>\n",
       "    </tr>\n",
       "    <tr>\n",
       "      <th>12417.00000</th>\n",
       "      <td>1</td>\n",
       "      <td>267.00000</td>\n",
       "      <td>436.30000</td>\n",
       "      <td>436.30000</td>\n",
       "      <td>A</td>\n",
       "    </tr>\n",
       "    <tr>\n",
       "      <th>12421.00000</th>\n",
       "      <td>4</td>\n",
       "      <td>484.00000</td>\n",
       "      <td>807.04000</td>\n",
       "      <td>201.76000</td>\n",
       "      <td>C</td>\n",
       "    </tr>\n",
       "  </tbody>\n",
       "</table>\n",
       "</div>"
      ],
      "text/plain": [
       "             total_transaction  total_unit  total_price  avg_order_value  \\\n",
       "Customer ID                                                                \n",
       "12346.00000                  1  2203.62500   3585.14875        778.89562   \n",
       "12354.00000                  1   530.00000   1079.40000        778.89562   \n",
       "12413.00000                  3   286.00000    758.10000        252.70000   \n",
       "12417.00000                  1   267.00000    436.30000        436.30000   \n",
       "12421.00000                  4   484.00000    807.04000        201.76000   \n",
       "\n",
       "            segment  \n",
       "Customer ID          \n",
       "12346.00000       A  \n",
       "12354.00000       A  \n",
       "12413.00000       C  \n",
       "12417.00000       A  \n",
       "12421.00000       C  "
      ]
     },
     "execution_count": 62,
     "metadata": {},
     "output_type": "execute_result"
    }
   ],
   "source": [
    "cltv_df[\"segment\"] = pd.qcut(cltv_df[\"avg_order_value\"], 4, labels=[\"D\", \"C\", \"B\", \"A\"])\n",
    "cltv_df.head()"
   ]
  },
  {
   "cell_type": "code",
   "execution_count": 63,
   "metadata": {},
   "outputs": [
    {
     "data": {
      "text/html": [
       "<div>\n",
       "<style scoped>\n",
       "    .dataframe tbody tr th:only-of-type {\n",
       "        vertical-align: middle;\n",
       "    }\n",
       "\n",
       "    .dataframe tbody tr th {\n",
       "        vertical-align: top;\n",
       "    }\n",
       "\n",
       "    .dataframe thead tr th {\n",
       "        text-align: left;\n",
       "    }\n",
       "\n",
       "    .dataframe thead tr:last-of-type th {\n",
       "        text-align: right;\n",
       "    }\n",
       "</style>\n",
       "<table border=\"1\" class=\"dataframe\">\n",
       "  <thead>\n",
       "    <tr>\n",
       "      <th></th>\n",
       "      <th colspan=\"2\" halign=\"left\">avg_order_value</th>\n",
       "      <th colspan=\"2\" halign=\"left\">total_transaction</th>\n",
       "    </tr>\n",
       "    <tr>\n",
       "      <th></th>\n",
       "      <th>mean</th>\n",
       "      <th>count</th>\n",
       "      <th>mean</th>\n",
       "      <th>count</th>\n",
       "    </tr>\n",
       "    <tr>\n",
       "      <th>segment</th>\n",
       "      <th></th>\n",
       "      <th></th>\n",
       "      <th></th>\n",
       "      <th></th>\n",
       "    </tr>\n",
       "  </thead>\n",
       "  <tbody>\n",
       "    <tr>\n",
       "      <th>D</th>\n",
       "      <td>121.99095</td>\n",
       "      <td>1033</td>\n",
       "      <td>2.55760</td>\n",
       "      <td>1033</td>\n",
       "    </tr>\n",
       "    <tr>\n",
       "      <th>C</th>\n",
       "      <td>225.56104</td>\n",
       "      <td>1033</td>\n",
       "      <td>3.71055</td>\n",
       "      <td>1033</td>\n",
       "    </tr>\n",
       "    <tr>\n",
       "      <th>B</th>\n",
       "      <td>344.75525</td>\n",
       "      <td>1033</td>\n",
       "      <td>3.74250</td>\n",
       "      <td>1033</td>\n",
       "    </tr>\n",
       "    <tr>\n",
       "      <th>A</th>\n",
       "      <td>599.48812</td>\n",
       "      <td>1033</td>\n",
       "      <td>4.02033</td>\n",
       "      <td>1033</td>\n",
       "    </tr>\n",
       "  </tbody>\n",
       "</table>\n",
       "</div>"
      ],
      "text/plain": [
       "        avg_order_value       total_transaction      \n",
       "                   mean count              mean count\n",
       "segment                                              \n",
       "D             121.99095  1033           2.55760  1033\n",
       "C             225.56104  1033           3.71055  1033\n",
       "B             344.75525  1033           3.74250  1033\n",
       "A             599.48812  1033           4.02033  1033"
      ]
     },
     "execution_count": 63,
     "metadata": {},
     "output_type": "execute_result"
    }
   ],
   "source": [
    "cltv_segments = cltv_df.groupby(\"segment\")[[\"avg_order_value\", \"total_transaction\"]].agg({\"count\", \"mean\"})\n",
    "cltv_segments"
   ]
  }
 ],
 "metadata": {
  "interpreter": {
   "hash": "2d3125d698a9219943c1d119cac0a62030ebb28328ae69e90beea7551b05cfb1"
  },
  "kernelspec": {
   "display_name": "Python 3.8.8 ('base')",
   "language": "python",
   "name": "python3"
  },
  "language_info": {
   "codemirror_mode": {
    "name": "ipython",
    "version": 3
   },
   "file_extension": ".py",
   "mimetype": "text/x-python",
   "name": "python",
   "nbconvert_exporter": "python",
   "pygments_lexer": "ipython3",
   "version": "3.8.8"
  },
  "orig_nbformat": 4
 },
 "nbformat": 4,
 "nbformat_minor": 2
}
